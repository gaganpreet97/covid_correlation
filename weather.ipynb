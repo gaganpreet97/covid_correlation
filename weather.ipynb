{
 "cells": [
  {
   "cell_type": "markdown",
   "metadata": {},
   "source": [
    "This notebook derives weather data for different states of India. The source of the data is https://www1.ncdc.noaa.gov/"
   ]
  },
  {
   "cell_type": "code",
   "execution_count": 1,
   "metadata": {},
   "outputs": [],
   "source": [
    "import pandas as pd"
   ]
  },
  {
   "cell_type": "code",
   "execution_count": 2,
   "metadata": {},
   "outputs": [],
   "source": [
    "state_to_code_map = {\n",
    "    \"TN\" : 'IN020040900',\n",
    "    \"MH\" :  'IN012070800',\n",
    "    \"GJ\" : 'IN005010600',\n",
    "    \"DL\" : 'IN022023000',\n",
    "    \"RJ\" : 'IN019131301',\n",
    "    \"KA\" : 'IN009010100'\n",
    "}"
   ]
  },
  {
   "cell_type": "code",
   "execution_count": 3,
   "metadata": {},
   "outputs": [],
   "source": [
    "df = pd.read_csv('data/2020.csv',names=['station','id','param','value1','value2','value3','value4','value5'])"
   ]
  },
  {
   "cell_type": "code",
   "execution_count": 4,
   "metadata": {},
   "outputs": [],
   "source": [
    "# Filter the India stations\n",
    "india_df = df.loc[df.station.str.contains('^IN')]\n",
    "uniq_stations = list(india_df['station'].unique())"
   ]
  },
  {
   "cell_type": "code",
   "execution_count": 5,
   "metadata": {},
   "outputs": [],
   "source": [
    "def station_info():\n",
    "    f = open('data/india_stations.txt', 'r+')\n",
    "    my_file_data = f.read()\n",
    "    f.close()\n",
    "    station_arr = my_file_data.split('\\n')\n",
    "    stations={}\n",
    "    name_station={}\n",
    "    for e in station_arr:\n",
    "        #print(e.split( ))\n",
    "        val=e.split()\n",
    "        #print(len(val))\n",
    "        stations[val[0]]={}\n",
    "        stations[val[0]]['lat']=val[1]\n",
    "        stations[val[0]]['lon']=val[2]\n",
    "        stations[val[0]]['msl']=val[3]\n",
    "        stations[val[0]]['name1']=val[4]\n",
    "        stations[val[0]]['name2']=''\n",
    "        name_station[val[4]]=val[0]\n",
    "        if len(val)>5:\n",
    "            stations[val[0]]['name2']=val[5]\n",
    "    return (stations,name_station)\n",
    "    "
   ]
  },
  {
   "cell_type": "code",
   "execution_count": 6,
   "metadata": {},
   "outputs": [],
   "source": [
    "# Read station info data\n",
    "(stations,name_station) = station_info()"
   ]
  },
  {
   "cell_type": "code",
   "execution_count": 7,
   "metadata": {},
   "outputs": [],
   "source": [
    "# Connect station info and data\n",
    "all_data=[]\n",
    "\n",
    "def state_data(state_code):\n",
    "    #state_code='KA'\n",
    "    sts = state_to_code_map[state_code]\n",
    "    print(sts)\n",
    "    local_df = india_df[india_df['station']==sts]\n",
    "    dct={}\n",
    "    for index,row in local_df.iterrows():\n",
    "        if row['id'] not in dct:\n",
    "            dct[row['id']]={}\n",
    "            dct[row['id']]['date'] = row['id']\n",
    "            dct[row['id']]['state_code'] = state_code\n",
    "\n",
    "        dct[row['id']][row['param']]=row['value1']\n",
    "    for v in dct.keys():\n",
    "        all_data.append(dct[v])\n",
    "    "
   ]
  },
  {
   "cell_type": "code",
   "execution_count": 8,
   "metadata": {},
   "outputs": [
    {
     "name": "stdout",
     "output_type": "stream",
     "text": [
      "IN020040900\n",
      "IN012070800\n",
      "IN005010600\n",
      "IN022023000\n",
      "IN019131301\n",
      "IN009010100\n"
     ]
    }
   ],
   "source": [
    "for v in state_to_code_map:\n",
    "    state_data(v)"
   ]
  },
  {
   "cell_type": "code",
   "execution_count": 9,
   "metadata": {},
   "outputs": [],
   "source": [
    "all_df = pd.DataFrame(all_data)\n",
    "\n",
    "all_df['date'] = pd.to_datetime(all_df.date,format='%Y%m%d')\n",
    "\n",
    "all_df.PRCP.fillna(0,inplace=True)\n"
   ]
  },
  {
   "cell_type": "code",
   "execution_count": 10,
   "metadata": {},
   "outputs": [],
   "source": []
  },
  {
   "cell_type": "code",
   "execution_count": 11,
   "metadata": {},
   "outputs": [
    {
     "data": {
      "text/html": [
       "<div>\n",
       "<style scoped>\n",
       "    .dataframe tbody tr th:only-of-type {\n",
       "        vertical-align: middle;\n",
       "    }\n",
       "\n",
       "    .dataframe tbody tr th {\n",
       "        vertical-align: top;\n",
       "    }\n",
       "\n",
       "    .dataframe thead th {\n",
       "        text-align: right;\n",
       "    }\n",
       "</style>\n",
       "<table border=\"1\" class=\"dataframe\">\n",
       "  <thead>\n",
       "    <tr style=\"text-align: right;\">\n",
       "      <th></th>\n",
       "      <th>date</th>\n",
       "      <th>state_code</th>\n",
       "      <th>TMAX</th>\n",
       "      <th>TMIN</th>\n",
       "      <th>PRCP</th>\n",
       "      <th>TAVG</th>\n",
       "    </tr>\n",
       "  </thead>\n",
       "  <tbody>\n",
       "    <tr>\n",
       "      <td>0</td>\n",
       "      <td>2020-01-01</td>\n",
       "      <td>TN</td>\n",
       "      <td>303.0</td>\n",
       "      <td>225.0</td>\n",
       "      <td>279.0</td>\n",
       "      <td>257</td>\n",
       "    </tr>\n",
       "    <tr>\n",
       "      <td>1</td>\n",
       "      <td>2020-01-02</td>\n",
       "      <td>TN</td>\n",
       "      <td>NaN</td>\n",
       "      <td>234.0</td>\n",
       "      <td>330.0</td>\n",
       "      <td>276</td>\n",
       "    </tr>\n",
       "    <tr>\n",
       "      <td>2</td>\n",
       "      <td>2020-01-03</td>\n",
       "      <td>TN</td>\n",
       "      <td>312.0</td>\n",
       "      <td>240.0</td>\n",
       "      <td>0.0</td>\n",
       "      <td>279</td>\n",
       "    </tr>\n",
       "    <tr>\n",
       "      <td>3</td>\n",
       "      <td>2020-01-04</td>\n",
       "      <td>TN</td>\n",
       "      <td>312.0</td>\n",
       "      <td>245.0</td>\n",
       "      <td>0.0</td>\n",
       "      <td>280</td>\n",
       "    </tr>\n",
       "    <tr>\n",
       "      <td>4</td>\n",
       "      <td>2020-01-05</td>\n",
       "      <td>TN</td>\n",
       "      <td>316.0</td>\n",
       "      <td>NaN</td>\n",
       "      <td>0.0</td>\n",
       "      <td>277</td>\n",
       "    </tr>\n",
       "    <tr>\n",
       "      <td>...</td>\n",
       "      <td>...</td>\n",
       "      <td>...</td>\n",
       "      <td>...</td>\n",
       "      <td>...</td>\n",
       "      <td>...</td>\n",
       "      <td>...</td>\n",
       "    </tr>\n",
       "    <tr>\n",
       "      <td>795</td>\n",
       "      <td>2020-05-09</td>\n",
       "      <td>KA</td>\n",
       "      <td>NaN</td>\n",
       "      <td>238.0</td>\n",
       "      <td>0.0</td>\n",
       "      <td>291</td>\n",
       "    </tr>\n",
       "    <tr>\n",
       "      <td>796</td>\n",
       "      <td>2020-05-10</td>\n",
       "      <td>KA</td>\n",
       "      <td>352.0</td>\n",
       "      <td>240.0</td>\n",
       "      <td>0.0</td>\n",
       "      <td>290</td>\n",
       "    </tr>\n",
       "    <tr>\n",
       "      <td>797</td>\n",
       "      <td>2020-05-11</td>\n",
       "      <td>KA</td>\n",
       "      <td>353.0</td>\n",
       "      <td>236.0</td>\n",
       "      <td>0.0</td>\n",
       "      <td>283</td>\n",
       "    </tr>\n",
       "    <tr>\n",
       "      <td>798</td>\n",
       "      <td>2020-05-12</td>\n",
       "      <td>KA</td>\n",
       "      <td>340.0</td>\n",
       "      <td>234.0</td>\n",
       "      <td>0.0</td>\n",
       "      <td>276</td>\n",
       "    </tr>\n",
       "    <tr>\n",
       "      <td>799</td>\n",
       "      <td>2020-05-13</td>\n",
       "      <td>KA</td>\n",
       "      <td>338.0</td>\n",
       "      <td>224.0</td>\n",
       "      <td>0.0</td>\n",
       "      <td>279</td>\n",
       "    </tr>\n",
       "  </tbody>\n",
       "</table>\n",
       "<p>800 rows × 6 columns</p>\n",
       "</div>"
      ],
      "text/plain": [
       "          date state_code   TMAX   TMIN   PRCP  TAVG\n",
       "0   2020-01-01         TN  303.0  225.0  279.0   257\n",
       "1   2020-01-02         TN    NaN  234.0  330.0   276\n",
       "2   2020-01-03         TN  312.0  240.0    0.0   279\n",
       "3   2020-01-04         TN  312.0  245.0    0.0   280\n",
       "4   2020-01-05         TN  316.0    NaN    0.0   277\n",
       "..         ...        ...    ...    ...    ...   ...\n",
       "795 2020-05-09         KA    NaN  238.0    0.0   291\n",
       "796 2020-05-10         KA  352.0  240.0    0.0   290\n",
       "797 2020-05-11         KA  353.0  236.0    0.0   283\n",
       "798 2020-05-12         KA  340.0  234.0    0.0   276\n",
       "799 2020-05-13         KA  338.0  224.0    0.0   279\n",
       "\n",
       "[800 rows x 6 columns]"
      ]
     },
     "execution_count": 11,
     "metadata": {},
     "output_type": "execute_result"
    }
   ],
   "source": [
    "all_df"
   ]
  },
  {
   "cell_type": "code",
   "execution_count": 12,
   "metadata": {},
   "outputs": [],
   "source": [
    "all_df.to_csv('weather.csv',index=False)"
   ]
  }
 ],
 "metadata": {
  "kernelspec": {
   "display_name": "Python 3",
   "language": "python",
   "name": "python3"
  },
  "language_info": {
   "codemirror_mode": {
    "name": "ipython",
    "version": 3
   },
   "file_extension": ".py",
   "mimetype": "text/x-python",
   "name": "python",
   "nbconvert_exporter": "python",
   "pygments_lexer": "ipython3",
   "version": "3.8.2"
  }
 },
 "nbformat": 4,
 "nbformat_minor": 2
}
